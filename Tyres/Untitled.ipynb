{
 "cells": [
  {
   "cell_type": "code",
   "execution_count": 1,
   "id": "25f3dc1d",
   "metadata": {},
   "outputs": [],
   "source": [
    "import requests\n",
    "from scrapy.selector import Selector\n",
    "from tqdm import tqdm"
   ]
  },
  {
   "cell_type": "code",
   "execution_count": 2,
   "id": "fb8f0901",
   "metadata": {},
   "outputs": [],
   "source": [
    "url =\"https://www.tyres-online.in/tyres-online/car/summer-tyres\""
   ]
  },
  {
   "cell_type": "code",
   "execution_count": 3,
   "id": "c018ecae",
   "metadata": {},
   "outputs": [
    {
     "data": {
      "text/plain": [
       "<Response [200]>"
      ]
     },
     "execution_count": 3,
     "metadata": {},
     "output_type": "execute_result"
    }
   ],
   "source": [
    "res = requests.get(url)\n",
    "res"
   ]
  },
  {
   "cell_type": "code",
   "execution_count": 4,
   "id": "4835d8f1",
   "metadata": {},
   "outputs": [
    {
     "data": {
      "text/plain": [
       "<Selector xpath=None data='<html class=\"no-js\" lang=\"en\"> <!--<!...'>"
      ]
     },
     "execution_count": 4,
     "metadata": {},
     "output_type": "execute_result"
    }
   ],
   "source": [
    "sel = Selector(res)\n",
    "sel"
   ]
  },
  {
   "cell_type": "code",
   "execution_count": 26,
   "id": "54f3fd0f",
   "metadata": {},
   "outputs": [
    {
     "data": {
      "text/plain": [
       "5"
      ]
     },
     "execution_count": 26,
     "metadata": {},
     "output_type": "execute_result"
    }
   ],
   "source": [
    "total_page = sel.xpath('//li[@data-ename=\"page\"]//@data-eval').extract()[-1]\n",
    "total_page =int(total_page)\n",
    "total_page"
   ]
  },
  {
   "cell_type": "code",
   "execution_count": 28,
   "id": "068f8d92",
   "metadata": {},
   "outputs": [
    {
     "name": "stderr",
     "output_type": "stream",
     "text": [
      "100%|████████████████████████████████████████████████████████████████████████████████████| 5/5 [00:06<00:00,  1.22s/it]\n"
     ]
    },
    {
     "data": {
      "text/plain": [
       "[['https://www.tyres-online.in/bridgestone-turanza-er-300-205-55-r16-91h--7041149',\n",
       "  'https://www.tyres-online.in/bridgestone-turanza-t001-215-55-r17-94v--10649755',\n",
       "  'https://www.tyres-online.in/pirelli-p-zero-275-45-zr18-103y--1077499',\n",
       "  'https://www.tyres-online.in/pirelli-p-zero-245-45-zr19-102y--4354073',\n",
       "  'https://www.tyres-online.in/bridgestone-turanza-er-300-ecopia-225-50-r16-92v--5734553',\n",
       "  'https://www.tyres-online.in/pirelli-p-zero-runflat-245-50-r18-100y--15233227',\n",
       "  'https://www.tyres-online.in/michelin-pilot-sport-ps2-255-40-r19-100y--9396351',\n",
       "  'https://www.tyres-online.in/bridgestone-potenza-re-050-a-225-45-r17-91w--8220879',\n",
       "  'https://www.tyres-online.in/pirelli-p-zero-275-40-zr19-105y--13594840',\n",
       "  'https://www.tyres-online.in/pirelli-p-zero-235-40-zr18-95y--2584774',\n",
       "  'https://www.tyres-online.in/continental-contipremiumcontact-2-225-55-r16-95y--11497679',\n",
       "  'https://www.tyres-online.in/michelin-primacy-3-215-50-r17-95w--6254768',\n",
       "  'https://www.tyres-online.in/continental-contisportcontact-5-255-35-r18-94y--11825320',\n",
       "  'https://www.tyres-online.in/continental-contisportcontact-5-ssr-225-50-r18-95w--6058044',\n",
       "  'https://www.tyres-online.in/bridgestone-turanza-er-300-2-rft-195-55-r16-87v--7893158',\n",
       "  'https://www.tyres-online.in/michelin-pilot-sport-ps2-295-30-zr19-100y--15163553',\n",
       "  'https://www.tyres-online.in/pirelli-cinturato-p7-225-45-r17-91v--8224867',\n",
       "  'https://www.tyres-online.in/michelin-primacy-hp-225-55-r16-95w--13201547',\n",
       "  'https://www.tyres-online.in/bridgestone-turanza-er-300-rft-205-55-r16-91v--291070',\n",
       "  'https://www.tyres-online.in/continental-contisportcontact-3-e-ssr-275-40-r18-99y--5341368'],\n",
       " ['https://www.tyres-online.in/bridgestone-potenza-re-050-a-245-45-r17-99y--11956236',\n",
       "  'https://www.tyres-online.in/bridgestone-potenza-re-050-a-225-50-r17-94y--11759814',\n",
       "  'https://www.tyres-online.in/bridgestone-potenza-s001-245-45-r19-98y--11169982',\n",
       "  'https://www.tyres-online.in/continental-contisportcontact-3-265-35-r18-97y--5730497',\n",
       "  'https://www.tyres-online.in/michelin-primacy-hp-235-55-r17-99w--10186948',\n",
       "  'https://www.tyres-online.in/dunlop-sport-maxx-rt-225-45-r17-91y--13926470',\n",
       "  'https://www.tyres-online.in/continental-contisportcontact-5-245-40-r18-97y--12087520',\n",
       "  'https://www.tyres-online.in/pirelli-p-zero-305-30-zr19-102y--225292',\n",
       "  'https://www.tyres-online.in/continental-contiecocontact-5-ssr-225-55-r16-95v--14774527',\n",
       "  'https://www.tyres-online.in/bridgestone-potenza-re-050-a-rft-255-40-r17-94v--9404621',\n",
       "  'https://www.tyres-online.in/continental-contisportcontact-3-ssr-245-40-r18-93y--9142357',\n",
       "  'https://www.tyres-online.in/dunlop-sp-sport-maxx-gt-245-45-zr19-102y--8744986',\n",
       "  'https://www.tyres-online.in/bridgestone-potenza-re-050-a-ecopia-245-40-r18-97y--4227086',\n",
       "  'https://www.tyres-online.in/michelin-pilot-sport-3-255-35-zr18-94y--8413345',\n",
       "  'https://www.tyres-online.in/michelin-primacy-hp-245-45-r17-95y--1011724',\n",
       "  'https://www.tyres-online.in/bridgestone-potenza-s001-245-45-r17-95w--4685894',\n",
       "  'https://www.tyres-online.in/dunlop-sp-sport-maxx-gt-235-40-zr18-95y--7176277',\n",
       "  'https://www.tyres-online.in/continental-contisportcontact-5p-235-45-zr19-99y--7569612',\n",
       "  'https://www.tyres-online.in/michelin-pilot-sport-3-235-45-zr19-99w--16675067',\n",
       "  'https://www.tyres-online.in/michelin-primacy-3-225-55-r17-97y--16609464'],\n",
       " ['https://www.tyres-online.in/pirelli-p-zero-runflat-275-40-r19-101y--6189182',\n",
       "  'https://www.tyres-online.in/pirelli-p-zero-265-35-zr20-95y--12152879',\n",
       "  'https://www.tyres-online.in/pirelli-p-zero-255-45-zr19-100y--10453130',\n",
       "  'https://www.tyres-online.in/pirelli-p-zero-275-35-zr20-102y--4681926',\n",
       "  'https://www.tyres-online.in/continental-contisportcontact-5-245-45-r19-102y--5013585',\n",
       "  'https://www.tyres-online.in/pirelli-p-zero-255-45-r19-100y--15233199',\n",
       "  'https://www.tyres-online.in/pirelli-p-zero-245-50-zr18-100y--8483003',\n",
       "  'https://www.tyres-online.in/dunlop-sp-sport-maxx-gt-255-35-r18-94y--946188',\n",
       "  'https://www.tyres-online.in/continental-contisportcontact-5-225-45-r17-91v--14118945',\n",
       "  'https://www.tyres-online.in/michelin-primacy-3-245-45-r18-100y--1011896',\n",
       "  'https://www.tyres-online.in/pirelli-p-zero-pz4-sc-245-40-zr19-98y--15958157',\n",
       "  'https://www.tyres-online.in/bridgestone-potenza-re-050-rft-225-50-r17-94w--5070890',\n",
       "  'https://www.tyres-online.in/bridgestone-turanza-t001-225-45-r17-91v--16154829',\n",
       "  'https://www.tyres-online.in/bridgestone-turanza-t001-ext-225-50-r17-94w--5271742',\n",
       "  'https://www.tyres-online.in/dunlop-sp-sport-01-225-50-r17-94y--11821280',\n",
       "  'https://www.tyres-online.in/continental-contisportcontact-5-245-40-r17-91w--6447264',\n",
       "  'https://www.tyres-online.in/bridgestone-turanza-er-300-245-45-r18-100y--9535574',\n",
       "  'https://www.tyres-online.in/pirelli-p-zero-265-35-r18-97y--9335000',\n",
       "  'https://www.tyres-online.in/continental-contisportcontact-5-225-45-r17-91w--14835872',\n",
       "  'https://www.tyres-online.in/pirelli-p-zero-pz4-sc-235-35-zr20-88y--2195501'],\n",
       " ['https://www.tyres-online.in/bridgestone-potenza-s001-ext-245-45-r19-102y--5533756',\n",
       "  'https://www.tyres-online.in/michelin-primacy-3-zp-245-50-r18-100w--884951',\n",
       "  'https://www.tyres-online.in/continental-contisportcontact-3-245-40-r18-97y--3833912',\n",
       "  'https://www.tyres-online.in/pirelli-p-zero-245-45-r18-100y--5599436',\n",
       "  'https://www.tyres-online.in/continental-contisportcontact-5-225-45-r17-91y--14119080',\n",
       "  'https://www.tyres-online.in/continental-contisportcontact-3-235-40-zr18-95y--16277694',\n",
       "  'https://www.tyres-online.in/continental-contisportcontact-5-225-50-r17-94y--9470072',\n",
       "  'https://www.tyres-online.in/pirelli-cinturato-p7-225-45-r17-91y--8351928',\n",
       "  'https://www.tyres-online.in/continental-contipremiumcontact-5-205-55-r16-91w--12939502',\n",
       "  'https://www.tyres-online.in/continental-contisportcontact-5-245-40-r18-97y--13598861',\n",
       "  'https://www.tyres-online.in/michelin-primacy-3-zp-225-50-r17-94w--1933384',\n",
       "  'https://www.tyres-online.in/dunlop-sport-maxx-rt-245-35-zr19-93y--5079128',\n",
       "  'https://www.tyres-online.in/michelin-pilot-sport-4-315-35-zr20-110y--14123133',\n",
       "  'https://www.tyres-online.in/pirelli-p-zero-235-35-zr19-91y--1536204',\n",
       "  'https://www.tyres-online.in/pirelli-p-zero-255-40-r19-100y--1011934',\n",
       "  'https://www.tyres-online.in/pirelli-cinturato-p7-225-45-r17-91v--14315749',\n",
       "  'https://www.tyres-online.in/pirelli-p-zero-245-40-r18-97y--9789474',\n",
       "  'https://www.tyres-online.in/pirelli-p-zero-235-55-r18-104y--3567832',\n",
       "  'https://www.tyres-online.in/continental-contisportcontact-5p-235-40-zr18-95y--15818912',\n",
       "  'https://www.tyres-online.in/pirelli-p-zero-305-30-zr20-103y--618543'],\n",
       " ['https://www.tyres-online.in/continental-contisportcontact-5p-235-40-zr18-95y--15818912',\n",
       "  'https://www.tyres-online.in/michelin-primacy-3-zp-245-50-r18-100w--884951',\n",
       "  'https://www.tyres-online.in/continental-contisportcontact-3-245-40-r18-97y--3833912',\n",
       "  'https://www.tyres-online.in/pirelli-cinturato-p7-runflat-225-55-r17-97y--8745176',\n",
       "  'https://www.tyres-online.in/michelin-pilot-sport-3-235-40-zr18-95y--13066401',\n",
       "  'https://www.tyres-online.in/dunlop-sport-maxx-rt-205-55-r16-91w--1667253',\n",
       "  'https://www.tyres-online.in/bridgestone-potenza-re-050-rft-225-50-r17-94w--5070890',\n",
       "  'https://www.tyres-online.in/bridgestone-turanza-t001-225-45-r17-91v--16154829',\n",
       "  'https://www.tyres-online.in/pirelli-p-zero-295-30-zr19-100y--13791244',\n",
       "  'https://www.tyres-online.in/yokohama-c.-drive-2-ac02a-205-55-r16-91h--15954097',\n",
       "  'https://www.tyres-online.in/yokohama-c.-drive-2-ac02a-235-50-r18-97v--16285914',\n",
       "  'https://www.tyres-online.in/yokohama-advan-fleva-v701-255-40-r17-94w--2592993',\n",
       "  'https://www.tyres-online.in/yokohama-c.-drive-2-ac02a-zps-235-50-r18-97v--3768538',\n",
       "  'https://www.tyres-online.in/yokohama-bluearth-ae01--205-60-r15-91h--15958162',\n",
       "  'https://www.tyres-online.in/goodyear-eagle-f1-asymmetric-3-rof-225-55-r17-97y--3309740',\n",
       "  'https://www.tyres-online.in/yokohama-advan-sport-v103s--225-45-r17-91w--9859235',\n",
       "  'https://www.tyres-online.in/goodyear-eagle-f1-asymmetric-2-rof-275-35-r20-102y--225340',\n",
       "  'https://www.tyres-online.in/hankook-ventus-s1-evo-2-k117-225-50-zr17-94w--4423704',\n",
       "  'https://www.tyres-online.in/yokohama-advan-sport-v105--225-45-r17-91w--9793713',\n",
       "  'https://www.tyres-online.in/hankook-ventus-s1-evo-2-k117-225-50-r17-94y--4554985']]"
      ]
     },
     "execution_count": 28,
     "metadata": {},
     "output_type": "execute_result"
    }
   ],
   "source": [
    "links = []\n",
    "\n",
    "base_url = \"https://www.tyres-online.in/tyres-online/car/summer-tyres?page={}\"\n",
    "\n",
    "for page_no in tqdm(range(1,total_page+1,1)):\n",
    "    page_url = base_url.format(page_no)\n",
    "    #print(page_url)\n",
    "    \n",
    "    res = requests.get(page_url)\n",
    "    sel = Selector(res)\n",
    "    \n",
    "    product_url = sel.xpath('//a[@class=\"top-item-title_wrapper\"]//@href').extract()\n",
    "    \n",
    "    links.append(product_url)\n",
    "    \n",
    "links    \n",
    "    \n",
    " "
   ]
  },
  {
   "cell_type": "code",
   "execution_count": 18,
   "id": "b0554825",
   "metadata": {},
   "outputs": [
    {
     "data": {
      "text/plain": [
       "103"
      ]
     },
     "execution_count": 18,
     "metadata": {},
     "output_type": "execute_result"
    }
   ],
   "source": [
    "len(links)"
   ]
  },
  {
   "cell_type": "code",
   "execution_count": null,
   "id": "ecc2800e",
   "metadata": {},
   "outputs": [],
   "source": []
  }
 ],
 "metadata": {
  "kernelspec": {
   "display_name": "Python 3 (ipykernel)",
   "language": "python",
   "name": "python3"
  },
  "language_info": {
   "codemirror_mode": {
    "name": "ipython",
    "version": 3
   },
   "file_extension": ".py",
   "mimetype": "text/x-python",
   "name": "python",
   "nbconvert_exporter": "python",
   "pygments_lexer": "ipython3",
   "version": "3.9.12"
  }
 },
 "nbformat": 4,
 "nbformat_minor": 5
}
